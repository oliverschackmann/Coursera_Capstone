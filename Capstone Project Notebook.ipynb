{
    "cells": [
        {
            "cell_type": "markdown",
            "metadata": {},
            "source": "# IBM Data Science Capstone Project"
        },
        {
            "cell_type": "markdown",
            "metadata": {},
            "source": "## Introduction/Business Problem"
        },
        {
            "cell_type": "markdown",
            "metadata": {},
            "source": "In this project, I will try to contribute to solving a very common problem in my hometown, Munich. Since two of Germany's best universities are located in Munich, a lot of young people move there. Unfortunately, Munich is known for its high rents. My goal is to help students to find the least expensive districts. Additionally, with the help of machine learning, the districts will be clustered into a few groups based on their venues related to free-time activities. The characteristics of each of these groups will be analyzed, so interested students can make a more informed choice on where to rent an apartment."
        },
        {
            "cell_type": "markdown",
            "metadata": {},
            "source": "## Data"
        },
        {
            "cell_type": "markdown",
            "metadata": {},
            "source": "To achieve this, we have to use multiple data sources. Rental prices, sorted by districts, can be found in an article by a local newspaper: https://www.tz.de/leben/wohnen/uebersicht-muenchner-mieten-preise-nach-postleitzahlen-tz-6133643.html. With the help of Foursquare, we will gather information about venues in each district. Using an API request URL we will receive a json file, which will be used to obtain the name, location and category of each venue (example below). Furthermore, we will need the coordinates of each district and its shape, so we can create a good looking map. The required geojson file can be downloaded here: https://www.suche-postleitzahl.org/plz-karte-erstellen."
        },
        {
            "cell_type": "code",
            "execution_count": 1,
            "metadata": {},
            "outputs": [
                {
                    "data": {
                        "text/html": "<div>\n<style scoped>\n    .dataframe tbody tr th:only-of-type {\n        vertical-align: middle;\n    }\n\n    .dataframe tbody tr th {\n        vertical-align: top;\n    }\n\n    .dataframe thead th {\n        text-align: right;\n    }\n</style>\n<table border=\"1\" class=\"dataframe\">\n  <thead>\n    <tr style=\"text-align: right;\">\n      <th></th>\n      <th>Neighborhood</th>\n      <th>Neighborhood Latitude</th>\n      <th>Neighborhood Longitude</th>\n      <th>Venue</th>\n      <th>Venue Latitude</th>\n      <th>Venue Longitude</th>\n      <th>Venue Category</th>\n    </tr>\n  </thead>\n  <tbody>\n    <tr>\n      <th>0</th>\n      <td>80331</td>\n      <td>48.135276</td>\n      <td>11.570982</td>\n      <td>Ringlers</td>\n      <td>48.134097</td>\n      <td>11.568302</td>\n      <td>Sandwich Place</td>\n    </tr>\n  </tbody>\n</table>\n</div>",
                        "text/plain": "  Neighborhood Neighborhood Latitude Neighborhood Longitude     Venue  \\\n0        80331             48.135276              11.570982  Ringlers   \n\n  Venue Latitude Venue Longitude  Venue Category  \n0      48.134097       11.568302  Sandwich Place  "
                    },
                    "execution_count": 1,
                    "metadata": {},
                    "output_type": "execute_result"
                }
            ],
            "source": "import pandas as pd\n# example for data received from Foursquare\npd.DataFrame([[\"80331\",\"48.135276\",\"11.570982\",\"Ringlers\",\"48.134097\",\"11.568302\",\"Sandwich Place\"]],\n             columns=[\"Neighborhood\",\"Neighborhood Latitude\",\"Neighborhood Longitude\",\"Venue\",\"Venue Latitude\",\"Venue Longitude\",\"Venue Category\"])"
        }
    ],
    "metadata": {
        "kernelspec": {
            "display_name": "Python 3.6",
            "language": "python",
            "name": "python3"
        },
        "language_info": {
            "codemirror_mode": {
                "name": "ipython",
                "version": 3
            },
            "file_extension": ".py",
            "mimetype": "text/x-python",
            "name": "python",
            "nbconvert_exporter": "python",
            "pygments_lexer": "ipython3",
            "version": "3.6.9"
        }
    },
    "nbformat": 4,
    "nbformat_minor": 1
}