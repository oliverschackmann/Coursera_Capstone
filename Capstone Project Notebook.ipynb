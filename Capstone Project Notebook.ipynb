{
    "cells": [
        {
            "cell_type": "markdown",
            "metadata": {},
            "source": "# IBM Data Science Capstone Project"
        },
        {
            "cell_type": "markdown",
            "metadata": {},
            "source": "## Introduction/Business Problem"
        },
        {
            "cell_type": "markdown",
            "metadata": {},
            "source": "In this project, I will try to contribute to solving a very common problem in my hometown, Munich. Since two of Germany's best universities are located in Munich, a lot of young people move there. Unfortunately, Munich is known for its high rents. My goal is to help students to find the least expensive districts. Additionally, with the help of machine learning, the districts will be clustered into a few groups based on their venues related to free-time activities. The characteristics of each of these groups will be analyzed, so interested students can make a more informed choice on where to rent an apartment."
        },
        {
            "cell_type": "markdown",
            "metadata": {},
            "source": "## Data"
        },
        {
            "cell_type": "markdown",
            "metadata": {},
            "source": "To achieve this, we have to use multiple data sources. Rental prices, sorted by districts, can be found in an article by a local newspaper: https://www.tz.de/leben/wohnen/uebersicht-muenchner-mieten-preise-nach-postleitzahlen-tz-6133643.html. With the help of Foursquare, we will gather information about venues in each district. Furthermore, we will need the coordinates of each district and its shape, so we can create a good looking map. The required data can be found here: https://www.suche-postleitzahl.org/plz-karte-erstellen."
        }
    ],
    "metadata": {
        "kernelspec": {
            "display_name": "Python 3.6",
            "language": "python",
            "name": "python3"
        },
        "language_info": {
            "codemirror_mode": {
                "name": "ipython",
                "version": 3
            },
            "file_extension": ".py",
            "mimetype": "text/x-python",
            "name": "python",
            "nbconvert_exporter": "python",
            "pygments_lexer": "ipython3",
            "version": "3.6.9"
        }
    },
    "nbformat": 4,
    "nbformat_minor": 1
}